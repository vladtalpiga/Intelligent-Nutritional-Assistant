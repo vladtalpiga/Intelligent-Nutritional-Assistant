{
 "cells": [
  {
   "cell_type": "code",
   "execution_count": null,
   "metadata": {},
   "outputs": [],
   "source": [
    "import os\n",
    "import glob\n",
    "import torch\n",
    "import cv2\n",
    "import numpy as np\n",
    "import matplotlib.pyplot as plt\n",
    "from torch.utils.data import Dataset, DataLoader\n",
    "from torchvision.transforms.functional import normalize, to_tensor\n",
    "from sklearn.model_selection import train_test_split\n",
    "import torchvision.transforms as transforms\n",
    "\n",
    "TEST_IMAGES_PATH = \"C:/Users/Vlad Talpiga.VLR_PROJAMZ/OneDrive - Valrom Industrie SRL/Desktop/test_classifier/data\"\n",
    "\n",
    "def collate_fn(examples):\n",
    "\n",
    "  processed_images = []\n",
    "  processed_labels = []\n",
    "\n",
    "  for example in examples:\n",
    "\n",
    "    image = example[0].resize((512, 512))\n",
    "    tensor_image = to_tensor(image)\n",
    "    normalized_tensor_image = normalize(tensor_image, [0.485, 0.456, 0.406], [0.229, 0.224, 0.225])\n",
    "    vector_image = normalized_tensor_image.unsqueeze(0)\n",
    "    processed_images.append(vector_image)\n",
    "\n",
    "    label = np.array(example[1])\n",
    "    tensor_label = torch.tensor(label)\n",
    "    tensor_label = tensor_label.unsqueeze(0)\n",
    "    processed_labels.append(tensor_label)\n",
    "\n",
    "  torch_images = torch.cat(processed_images, dim=0)\n",
    "  torch_labels = torch.cat(processed_labels, dim=0)\n",
    "\n",
    "  return torch_images, torch_labels"
   ]
  }
 ],
 "metadata": {
  "kernelspec": {
   "display_name": "Python 3",
   "language": "python",
   "name": "python3"
  },
  "language_info": {
   "name": "python",
   "version": "3.11.5"
  }
 },
 "nbformat": 4,
 "nbformat_minor": 2
}
