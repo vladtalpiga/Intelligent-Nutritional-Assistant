{
 "cells": [
  {
   "cell_type": "code",
   "execution_count": 1,
   "metadata": {},
   "outputs": [
    {
     "name": "stdout",
     "output_type": "stream",
     "text": [
      "cuda\n",
      "NVIDIA GeForce RTX 4060 Laptop GPU\n"
     ]
    }
   ],
   "source": [
    "import torch\n",
    "from torchvision import datasets, transforms\n",
    "from torch.utils.data import Dataset, DataLoader\n",
    "from PIL import Image\n",
    "import os\n",
    "import matplotlib.pyplot as plt\n",
    "from IPython.display import clear_output\n",
    "import time\n",
    "import torch.nn as nn\n",
    "from torchvision import transforms, models\n",
    "from torchvision.models import ResNet50_Weights\n",
    "\n",
    "class Food101Dataset(Dataset):\n",
    "    def __init__(self, data_folder, transform=None):\n",
    "        self.data_folder = data_folder\n",
    "        self.transform = transform\n",
    "        self.classes = sorted(os.listdir(data_folder))\n",
    "        self.class_to_idx = {cls_name: i for i, cls_name in enumerate(self.classes)}\n",
    "        self.images = self._load_images()\n",
    "\n",
    "    def _load_images(self):\n",
    "        images = []\n",
    "        for cls_name in self.classes:\n",
    "            cls_path = os.path.join(self.data_folder, cls_name)\n",
    "            for img_name in os.listdir(cls_path):\n",
    "                img_path = os.path.join(cls_path, img_name)\n",
    "                images.append((img_path, self.class_to_idx[cls_name]))\n",
    "        return images\n",
    "\n",
    "    def __len__(self):\n",
    "        return len(self.images)\n",
    "\n",
    "    def __getitem__(self, idx):\n",
    "        img_path, label = self.images[idx]\n",
    "        image = Image.open(img_path).convert('RGB')\n",
    "        if self.transform:\n",
    "            image = self.transform(image)\n",
    "        return image, label\n",
    "\n",
    "# Define transformation for the images\n",
    "transform = transforms.Compose([\n",
    "    transforms.Resize((512, 512)),\n",
    "    transforms.ToTensor(),\n",
    "    transforms.Normalize(mean=[0.485, 0.456, 0.406], std=[0.229, 0.224, 0.225])\n",
    "])\n",
    "\n",
    "# Path to your data folder\n",
    "data_folder = \"C:/Users/Vlad Talpiga.VLR_PROJAMZ/OneDrive - Valrom Industrie SRL/Desktop/Facultate/IAVA/Proiect/Food Classifier Final/cross_validation/google images\"\n",
    "\n",
    "# Create dataset\n",
    "food101_dataset = Food101Dataset(data_folder, transform=transform)\n",
    "\n",
    "# Create dataloader\n",
    "batch_size = 32\n",
    "data_loader = DataLoader(food101_dataset, batch_size=batch_size, shuffle=True)\n",
    "\n",
    "device = torch.device('cuda' if torch.cuda.is_available() else 'cpu')\n",
    "print(device)\n",
    "print(torch.cuda.get_device_name(0))\n",
    "\n",
    "def test_acc(net: nn.Module, test_loader: DataLoader):\n",
    "\n",
    "  net.to(device)\n",
    "  net.eval()\n",
    "  \n",
    "  total = 0\n",
    "  correct = 0\n",
    "  top2_correct = 0\n",
    "\n",
    "  for images, labels in test_loader:\n",
    "    images, labels = images.to(device), labels.to(device)\n",
    "    total += labels.size(0)\n",
    "\n",
    "    outputs = net(images)\n",
    "    _, predicted = torch.max(outputs, 1)\n",
    "    correct += (predicted == labels).sum().item()\n",
    "\n",
    "    _, predicted2 = torch.topk(outputs, 2, dim=1)  # Get top 2 predictions\n",
    "    top2_correct += ((predicted2 == labels.view(-1, 1)) | (predicted2[:, 1].view(-1, 1) == labels.view(-1, 1))).sum().item()\n",
    "\n",
    "  return (correct / total * 100, top2_correct / total * 100)"
   ]
  },
  {
   "cell_type": "code",
   "execution_count": 2,
   "metadata": {},
   "outputs": [],
   "source": [
    "class Model(nn.Module):\n",
    "    def __init__(self):\n",
    "        super(Model, self).__init__()\n",
    "        \n",
    "        resnet = models.resnet50(weights=ResNet50_Weights.IMAGENET1K_V1)\n",
    "        resnet = nn.Sequential(*list(resnet.children())[:-1])\n",
    "        for param in resnet.parameters():\n",
    "            param.requires_grad = False\n",
    "\n",
    "        self.model = nn.Sequential(\n",
    "            resnet,\n",
    "            nn.AdaptiveAvgPool2d((1, 1)),\n",
    "            nn.Flatten(),\n",
    "            nn.Linear(2048, 512),\n",
    "            nn.ReLU(),\n",
    "            nn.BatchNorm1d(512),\n",
    "            nn.Dropout(0.25),\n",
    "            nn.Linear(512, 128),\n",
    "            nn.ReLU(),\n",
    "            nn.BatchNorm1d(128),\n",
    "            nn.Dropout(0.1),\n",
    "            nn.Linear(128, 101)\n",
    "        )\n",
    "\n",
    "    def forward(self, x):\n",
    "        return self.model(x)"
   ]
  },
  {
   "cell_type": "code",
   "execution_count": 3,
   "metadata": {},
   "outputs": [
    {
     "name": "stdout",
     "output_type": "stream",
     "text": [
      "Epoch 1: accuracy - 52.326%, top 2 accuracy - 79.068%\n",
      "Epoch 2: accuracy - 53.484%, top 2 accuracy - 80.246%\n",
      "Epoch 3: accuracy - 57.340%, top 2 accuracy - 83.337%\n",
      "Epoch 4: accuracy - 57.330%, top 2 accuracy - 83.709%\n",
      "Epoch 5: accuracy - 56.977%, top 2 accuracy - 82.612%\n",
      "Epoch 6: accuracy - 58.890%, top 2 accuracy - 84.344%\n",
      "Epoch 7: accuracy - 59.182%, top 2 accuracy - 84.998%\n",
      "Epoch 8: accuracy - 58.800%, top 2 accuracy - 85.723%\n",
      "Epoch 9: accuracy - 58.639%, top 2 accuracy - 84.776%\n",
      "Epoch 10: accuracy - 59.505%, top 2 accuracy - 84.454%\n",
      "Epoch 11: accuracy - 57.984%, top 2 accuracy - 83.780%\n",
      "Epoch 12: accuracy - 58.840%, top 2 accuracy - 84.636%\n",
      "Testing duration: 4536.252624750137\n"
     ]
    }
   ],
   "source": [
    "model = Model()\n",
    "\n",
    "start = time.time()\n",
    "for i in range(1, 13):\n",
    "\n",
    "    state_dict = torch.load(f'model_epoch{i}.pkl')\n",
    "    model.load_state_dict(state_dict)\n",
    "\n",
    "    accuracy, top2accuracy = test_acc(model, data_loader)\n",
    "\n",
    "    print(f'Epoch {i}: accuracy - {accuracy:.3f}%, top 2 accuracy - {top2accuracy:.3f}%')\n",
    "\n",
    "print(f'Testing duration: {time.time() - start}')"
   ]
  },
  {
   "cell_type": "code",
   "execution_count": 3,
   "metadata": {},
   "outputs": [
    {
     "data": {
      "image/png": "[encoded data removed]",
      "text/plain": [
       "<Figure size 1000x600 with 1 Axes>"
      ]
     },
     "metadata": {},
     "output_type": "display_data"
    }
   ],
   "source": [
    "import matplotlib.pyplot as plt\n",
    "\n",
    "# Data for top-1 accuracy and top-2 accuracy\n",
    "epochs = list(range(1, 13))\n",
    "top1_accuracy = [52.326, 53.484, 57.340, 57.330, 56.977, 58.890, 59.182, 58.800, 58.639, 59.505, 57.984, 58.840]\n",
    "top2_accuracy = [79.068, 80.246, 83.337, 83.709, 82.612, 84.344, 84.998, 85.723, 84.776, 84.454, 83.780, 84.636]\n",
    "\n",
    "# Plotting the data\n",
    "plt.figure(figsize=(10, 6))\n",
    "plt.plot(epochs, top1_accuracy, label='Top-1 Accuracy', color='blue', marker='o')\n",
    "plt.plot(epochs, top2_accuracy, label='Top-2 Accuracy', color='green', marker='o')\n",
    "\n",
    "# Adding labels and title\n",
    "plt.xlabel('Epoch')\n",
    "plt.ylabel('Accuracy')\n",
    "plt.legend()\n",
    "plt.grid(True)\n",
    "\n",
    "# Display the plot\n",
    "plt.show()"
   ]
  }
 ],
 "metadata": {
  "kernelspec": {
   "display_name": "Python 3",
   "language": "python",
   "name": "python3"
  },
  "language_info": {
   "codemirror_mode": {
    "name": "ipython",
    "version": 3
   },
   "file_extension": ".py",
   "mimetype": "text/x-python",
   "name": "python",
   "nbconvert_exporter": "python",
   "pygments_lexer": "ipython3",
   "version": "3.11.5"
  }
 },
 "nbformat": 4,
 "nbformat_minor": 2
}
