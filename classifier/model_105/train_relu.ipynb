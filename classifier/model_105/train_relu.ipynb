{
 "cells": [
  {
   "cell_type": "code",
   "execution_count": 6,
   "metadata": {},
   "outputs": [
    {
     "name": "stdout",
     "output_type": "stream",
     "text": [
      "cuda\n",
      "NVIDIA GeForce RTX 4060 Laptop GPU\n"
     ]
    }
   ],
   "source": [
    "import torchvision\n",
    "import torch.nn as nn\n",
    "import torch.nn.functional as nnf\n",
    "import torch\n",
    "import torch.optim as optim\n",
    "import numpy as np\n",
    "from torch.utils.data import DataLoader, Dataset\n",
    "from torchvision.transforms.functional import to_tensor, normalize\n",
    "import time\n",
    "import matplotlib.pyplot as plt\n",
    "from IPython.display import clear_output\n",
    "from torchvision import transforms, models\n",
    "from torchvision.datasets import Food101\n",
    "from torchvision.models import ResNet50_Weights\n",
    "import os\n",
    "import shutil\n",
    "from torchvision import datasets, transforms\n",
    "from torch.utils.data import DataLoader\n",
    "\n",
    "\n",
    "device = torch.device('cuda' if torch.cuda.is_available() else 'cpu')\n",
    "print(device)\n",
    "print(torch.cuda.get_device_name(0))\n",
    "\n",
    "def test_acc(net: nn.Module, test_loader: DataLoader):\n",
    "\n",
    "\tnet.to(device)\n",
    "\tnet.eval()\n",
    "\t\n",
    "\ttotal = 0\n",
    "\tcorrect = 0\n",
    "\n",
    "\tfor images, labels in test_loader:\n",
    "\t\timages, labels = images.to(device), labels.to(device)\n",
    "\t\ttotal += labels.size(0)\n",
    "\n",
    "\t\toutputs = net(images)\n",
    "\t\t_, predicted = torch.max(outputs, 1)\n",
    "\t\tcorrect += (predicted == labels).sum().item()\n",
    "\n",
    "\treturn correct / total * 100\n",
    "\n",
    "def train_fn(epochs: int, train_loader: DataLoader, test_loader: DataLoader,\n",
    "             net: nn.Module, loss_fn: nn.Module, optimizer: optim.Optimizer, train_dataset_length):\n",
    "\n",
    "\tlosses = []\n",
    "\taccuracies = []\n",
    "\n",
    "\tnet.to(device)\n",
    "\n",
    "\tfor e in range(epochs):\n",
    "\t\tnet.train()\n",
    "\t\trunning_loss = 0.0\n",
    "\n",
    "\t\tfor images, labels in train_loader:\n",
    "\t\t\timages, labels = images.to(device), labels.type(torch.LongTensor).to(device)\n",
    "\n",
    "\t\t\toptimizer.zero_grad()\n",
    "\t\t\toutputs = net(images)\n",
    "\t\t\tloss = loss_fn(outputs, labels)\n",
    "\t\t\tloss.backward()\n",
    "\t\t\toptimizer.step()\n",
    "\n",
    "\t\t\trunning_loss += loss.item() * images.size(0)\n",
    "\n",
    "\t\tepoch_loss = running_loss / train_dataset_length\n",
    "\n",
    "\t\tprint(f\"Loss-ul la finalul epocii {e + 1}: {epoch_loss}\")\n",
    "\n",
    "\t\tacc = test_acc(net, test_loader)\n",
    "\t\tprint(f\"Acuratetea la finalul epocii {e + 1} este {acc:.2f}%\")\n",
    "\n",
    "\t\tlosses.append(epoch_loss)\n",
    "\t\taccuracies.append(acc)\n",
    "\n",
    "\t\ttorch.save(net.state_dict(), f'saved_models/ReLU_epoch{e + 1}.pkl')\n",
    "\n",
    "\tloss_graph(losses)\n",
    "\taccuracy_graph(accuracies)\n",
    "\n",
    "def loss_graph(losses):\n",
    "    plt.plot(losses)\n",
    "\n",
    "    plt.xlabel('epoch')\n",
    "    plt.ylabel('loss')\n",
    "    plt.show()\n",
    "\n",
    "def accuracy_graph(accuracies):\n",
    "    plt.plot(accuracies)\n",
    "\n",
    "    plt.xlabel('epochs')\n",
    "    plt.ylabel('accuracy')\n",
    "    plt.show()\n",
    "    \n",
    "class Model(nn.Module):\n",
    "    def __init__(self):\n",
    "        super(Model, self).__init__()\n",
    "        \n",
    "        resnet = models.resnet50(weights=ResNet50_Weights.IMAGENET1K_V1)\n",
    "        resnet = nn.Sequential(*list(resnet.children())[:-1])\n",
    "        for param in resnet.parameters():\n",
    "            param.requires_grad = False\n",
    "\n",
    "\n",
    "        self.model = nn.Sequential(\n",
    "            resnet,\n",
    "            nn.AdaptiveAvgPool2d((1, 1)),\n",
    "            nn.Flatten(),\n",
    "            nn.Linear(2048, 512),\n",
    "            nn.ReLU(),\n",
    "            nn.BatchNorm1d(512),\n",
    "            nn.Dropout(0.25),\n",
    "            nn.Linear(512, 128),\n",
    "            nn.ReLU(),\n",
    "            nn.BatchNorm1d(128),\n",
    "            nn.Dropout(0.1),\n",
    "            nn.Linear(128, 105)\n",
    "        )\n",
    "\n",
    "    def forward(self, x):\n",
    "        return self.model(x)"
   ]
  },
  {
   "cell_type": "code",
   "execution_count": 7,
   "metadata": {},
   "outputs": [],
   "source": [
    "transform = transforms.Compose([\n",
    "    transforms.RandomHorizontalFlip(),\n",
    "    transforms.Resize((512, 512)),\n",
    "    transforms.ToTensor(),\n",
    "    transforms.Normalize(mean=[0.485, 0.456, 0.406], std=[0.229, 0.224, 0.225])\n",
    "])\n",
    "\n",
    "train_dir = \"C:/Users/Vlad Talpiga.VLR_PROJAMZ/OneDrive - Valrom Industrie SRL/Desktop/Facultate/IAVA/Proiect/Food Classifier Final/datasets/data_105/splits/train\"\n",
    "val_dir = \"C:/Users/Vlad Talpiga.VLR_PROJAMZ/OneDrive - Valrom Industrie SRL/Desktop/Facultate/IAVA/Proiect/Food Classifier Final/datasets/data_105/splits/test\"\n",
    "\n",
    "train_dataset = datasets.ImageFolder(train_dir, transform=transform)\n",
    "test_dataset = datasets.ImageFolder(val_dir, transform=transform)\n",
    "\n",
    "batch_size = 32\n",
    "train_loader = DataLoader(train_dataset, batch_size=batch_size, shuffle=True)\n",
    "test_loader = DataLoader(test_dataset, batch_size=batch_size, shuffle=False)"
   ]
  },
  {
   "cell_type": "code",
   "execution_count": null,
   "metadata": {},
   "outputs": [],
   "source": [
    "print(len(train_dataset.classes))\n",
    "train_dataset.classes"
   ]
  },
  {
   "cell_type": "code",
   "execution_count": 9,
   "metadata": {},
   "outputs": [
    {
     "name": "stdout",
     "output_type": "stream",
     "text": [
      "Training started\n",
      "Loss-ul la finalul epocii 1: 2.2872075489589148\n",
      "Acuratetea la finalul epocii 1 este 54.84%\n",
      "Loss-ul la finalul epocii 2: 1.8440472316287813\n",
      "Acuratetea la finalul epocii 2 este 57.28%\n",
      "Loss-ul la finalul epocii 3: 1.7503030409585862\n",
      "Acuratetea la finalul epocii 3 este 60.11%\n",
      "Loss-ul la finalul epocii 4: 1.6852822472405813\n",
      "Acuratetea la finalul epocii 4 este 61.07%\n",
      "Loss-ul la finalul epocii 5: 1.6350597840112353\n",
      "Acuratetea la finalul epocii 5 este 62.57%\n",
      "Loss-ul la finalul epocii 6: 1.5989011047605484\n",
      "Acuratetea la finalul epocii 6 este 62.28%\n",
      "Loss-ul la finalul epocii 7: 1.5639824075547475\n",
      "Acuratetea la finalul epocii 7 este 63.15%\n",
      "Loss-ul la finalul epocii 8: 1.5342204970556592\n",
      "Acuratetea la finalul epocii 8 este 63.40%\n",
      "Loss-ul la finalul epocii 9: 1.5180753606311859\n",
      "Acuratetea la finalul epocii 9 este 63.62%\n",
      "Loss-ul la finalul epocii 10: 1.492737508713253\n",
      "Acuratetea la finalul epocii 10 este 64.36%\n",
      "Loss-ul la finalul epocii 11: 1.4867096858100286\n",
      "Acuratetea la finalul epocii 11 este 63.77%\n",
      "Loss-ul la finalul epocii 12: 1.4578706272367448\n",
      "Acuratetea la finalul epocii 12 este 64.30%\n"
     ]
    },
    {
     "data": {
      "image/png": "[encoded data removed]",
      "text/plain": [
       "<Figure size 640x480 with 1 Axes>"
      ]
     },
     "metadata": {},
     "output_type": "display_data"
    },
    {
     "data": {
      "image/png": "[encoded data removed]",
      "text/plain": [
       "<Figure size 640x480 with 1 Axes>"
      ]
     },
     "metadata": {},
     "output_type": "display_data"
    },
    {
     "name": "stdout",
     "output_type": "stream",
     "text": [
      "Duration of training: 361.5768019199371\n"
     ]
    }
   ],
   "source": [
    "model = Model()\n",
    "\n",
    "loss_fn = nn.CrossEntropyLoss()\n",
    "optimizer = optim.AdamW(model.parameters(), lr=0.001, betas=(0.95, 0.999), weight_decay=0.0001)\n",
    " \n",
    "epochs = 12\n",
    "start = time.time()\n",
    "print('Training started')\n",
    "\n",
    "train_fn(epochs, train_loader, test_loader, model, loss_fn, optimizer, len(train_dataset))\n",
    "\n",
    "end = time.time()\n",
    "print(f'Duration of training: {(end - start) / 60}')"
   ]
  }
 ],
 "metadata": {
  "kernelspec": {
   "display_name": "Python 3",
   "language": "python",
   "name": "python3"
  },
  "language_info": {
   "codemirror_mode": {
    "name": "ipython",
    "version": 3
   },
   "file_extension": ".py",
   "mimetype": "text/x-python",
   "name": "python",
   "nbconvert_exporter": "python",
   "pygments_lexer": "ipython3",
   "version": "3.11.5"
  }
 },
 "nbformat": 4,
 "nbformat_minor": 2
}
