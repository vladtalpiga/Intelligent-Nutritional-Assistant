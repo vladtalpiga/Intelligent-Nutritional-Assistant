{
 "cells": [
  {
   "cell_type": "code",
   "execution_count": 1,
   "metadata": {},
   "outputs": [],
   "source": [
    "import os\n",
    "import shutil\n",
    "from torchvision import datasets, transforms\n",
    "from torch.utils.data import DataLoader\n",
    "\n",
    "# Define paths\n",
    "data_root = \"C:/Users/Vlad Talpiga.VLR_PROJAMZ/OneDrive - Valrom Industrie SRL/Desktop/Facultate/IAVA/Proiect/Food Classifier Final/datasets/data_105/dataset750\"\n",
    "train_dir = \"data/train\"\n",
    "val_dir = \"data/test\"\n",
    "\n",
    "# Create train and validation directories if they don't exist\n",
    "os.makedirs(train_dir, exist_ok=True)\n",
    "os.makedirs(val_dir, exist_ok=True)\n",
    "\n",
    "# Loop through each class folder\n",
    "for class_folder in os.listdir(data_root):\n",
    "    class_path = os.path.join(data_root, class_folder)\n",
    "    if os.path.isdir(class_path):\n",
    "        images = os.listdir(class_path)\n",
    "        \n",
    "        # Split images into train and validation sets\n",
    "        train_images = images[:150]\n",
    "        val_images = images[150:200]\n",
    "        \n",
    "        # Move images to train directory\n",
    "        for img in train_images:\n",
    "            src = os.path.join(class_path, img)\n",
    "            dst = os.path.join(train_dir, class_folder)\n",
    "            os.makedirs(dst, exist_ok=True)\n",
    "            shutil.copy(src, dst)\n",
    "        \n",
    "        # Move images to validation directory\n",
    "        for img in val_images:\n",
    "            src = os.path.join(class_path, img)\n",
    "            dst = os.path.join(val_dir, class_folder)\n",
    "            os.makedirs(dst, exist_ok=True)\n",
    "            shutil.copy(src, dst)\n"
   ]
  }
 ],
 "metadata": {
  "kernelspec": {
   "display_name": "Python 3",
   "language": "python",
   "name": "python3"
  },
  "language_info": {
   "codemirror_mode": {
    "name": "ipython",
    "version": 3
   },
   "file_extension": ".py",
   "mimetype": "text/x-python",
   "name": "python",
   "nbconvert_exporter": "python",
   "pygments_lexer": "ipython3",
   "version": "3.11.5"
  }
 },
 "nbformat": 4,
 "nbformat_minor": 2
}
