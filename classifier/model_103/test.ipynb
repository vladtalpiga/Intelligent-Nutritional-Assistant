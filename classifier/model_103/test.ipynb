{
 "cells": [
  {
   "cell_type": "code",
   "execution_count": 10,
   "metadata": {},
   "outputs": [
    {
     "name": "stdout",
     "output_type": "stream",
     "text": [
      "cuda\n",
      "NVIDIA GeForce RTX 4060 Laptop GPU\n"
     ]
    }
   ],
   "source": [
    "import torchvision\n",
    "import torch.nn as nn\n",
    "import torch.nn.functional as nnf\n",
    "import torch\n",
    "import torch.optim as optim\n",
    "import numpy as np\n",
    "from torch.utils.data import DataLoader, Dataset\n",
    "from torchvision.transforms.functional import to_tensor, normalize\n",
    "import time\n",
    "import matplotlib.pyplot as plt\n",
    "from IPython.display import clear_output\n",
    "from torchvision import transforms, models\n",
    "from torchvision.datasets import Food101\n",
    "from torchvision.models import ResNet50_Weights\n",
    "import os\n",
    "import shutil\n",
    "from torchvision import datasets, transforms\n",
    "\n",
    "device = torch.device('cuda' if torch.cuda.is_available() else 'cpu')\n",
    "print(device)\n",
    "print(torch.cuda.get_device_name(0))\n",
    "\n",
    "def test_acc(net: nn.Module, test_loader: DataLoader):\n",
    "\n",
    "  net.to(device)\n",
    "  net.eval()\n",
    "  \n",
    "  total = 0\n",
    "  correct = 0\n",
    "  top2_correct = 0\n",
    "\n",
    "  for images, labels in test_loader:\n",
    "    images, labels = images.to(device), labels.to(device)\n",
    "    total += labels.size(0)\n",
    "\n",
    "    outputs = net(images)\n",
    "    _, predicted = torch.max(outputs, 1)\n",
    "    correct += (predicted == labels).sum().item()\n",
    "\n",
    "    _, predicted2 = torch.topk(outputs, 2, dim=1)  # Get top 2 predictions\n",
    "    top2_correct += ((predicted2 == labels.view(-1, 1)) | (predicted2[:, 1].view(-1, 1) == labels.view(-1, 1))).sum().item()\n",
    "\n",
    "  return (correct / total * 100, top2_correct / total * 100)\n",
    "\n",
    "class Model(nn.Module):\n",
    "    def __init__(self):\n",
    "        super(Model, self).__init__()\n",
    "        \n",
    "        resnet = models.resnet50(weights=ResNet50_Weights.IMAGENET1K_V1)\n",
    "        resnet = nn.Sequential(*list(resnet.children())[:-1])\n",
    "        for param in resnet.parameters():\n",
    "            param.requires_grad = False\n",
    "\n",
    "\n",
    "        self.model = nn.Sequential(\n",
    "            resnet,\n",
    "            nn.AdaptiveAvgPool2d((1, 1)),\n",
    "            nn.Flatten(),\n",
    "            nn.Linear(2048, 512),\n",
    "            nn.ReLU(),\n",
    "            nn.BatchNorm1d(512),\n",
    "            nn.Dropout(0.25),\n",
    "            nn.Linear(512, 128),\n",
    "            nn.ReLU(),\n",
    "            nn.BatchNorm1d(128),\n",
    "            nn.Dropout(0.1),\n",
    "            nn.Linear(128, 103)\n",
    "        )\n",
    "\n",
    "    def forward(self, x):\n",
    "        return self.model(x)"
   ]
  },
  {
   "cell_type": "code",
   "execution_count": 11,
   "metadata": {},
   "outputs": [],
   "source": [
    "transform = transforms.Compose([\n",
    "    transforms.RandomHorizontalFlip(),\n",
    "    transforms.Resize((512, 512)),\n",
    "    transforms.ToTensor(),\n",
    "    transforms.Normalize(mean=[0.485, 0.456, 0.406], std=[0.229, 0.224, 0.225])\n",
    "])\n",
    "\n",
    "test_dir = \"C:/Users/Vlad Talpiga.VLR_PROJAMZ/OneDrive - Valrom Industrie SRL/Desktop/Facultate/IAVA/Proiect/Food Classifier Final/cross_validation/google_new\"\n",
    "\n",
    "test_dataset = datasets.ImageFolder(test_dir, transform=transform)\n",
    "\n",
    "batch_size = 32\n",
    "test_loader = DataLoader(test_dataset, batch_size=batch_size, shuffle=False)"
   ]
  },
  {
   "cell_type": "code",
   "execution_count": 12,
   "metadata": {},
   "outputs": [
    {
     "name": "stdout",
     "output_type": "stream",
     "text": [
      "Epoch 1: accuracy - 33.551%, top 2 accuracy - 57.235%\n",
      "Epoch 2: accuracy - 36.751%, top 2 accuracy - 61.679%\n",
      "Epoch 3: accuracy - 34.598%, top 2 accuracy - 58.202%\n",
      "Epoch 4: accuracy - 40.049%, top 2 accuracy - 66.835%\n",
      "Epoch 5: accuracy - 37.916%, top 2 accuracy - 63.714%\n",
      "Epoch 6: accuracy - 39.684%, top 2 accuracy - 66.607%\n",
      "Epoch 7: accuracy - 41.067%, top 2 accuracy - 68.267%\n",
      "Epoch 8: accuracy - 41.817%, top 2 accuracy - 66.884%\n",
      "Epoch 9: accuracy - 40.741%, top 2 accuracy - 65.373%\n",
      "Epoch 10: accuracy - 36.030%, top 2 accuracy - 62.242%\n",
      "Epoch 11: accuracy - 42.005%, top 2 accuracy - 67.625%\n",
      "Epoch 12: accuracy - 38.805%, top 2 accuracy - 64.919%\n",
      "Epoch 13: accuracy - 39.052%, top 2 accuracy - 64.454%\n",
      "Epoch 14: accuracy - 36.681%, top 2 accuracy - 62.519%\n",
      "Epoch 15: accuracy - 41.047%, top 2 accuracy - 67.062%\n",
      "Testing duration: 4281.951848745346\n"
     ]
    }
   ],
   "source": [
    "model = Model()\n",
    "\n",
    "start = time.time()\n",
    "for i in range(1, 16):\n",
    "\n",
    "    state_dict = torch.load(f'model103_epoch{i}.pkl')\n",
    "    model.load_state_dict(state_dict)\n",
    "\n",
    "    accuracy, top2accuracy = test_acc(model, test_loader)\n",
    "\n",
    "    print(f'Epoch {i}: accuracy - {accuracy:.3f}%, top 2 accuracy - {top2accuracy:.3f}%')\n",
    "\n",
    "print(f'Testing duration: {time.time() - start}')"
   ]
  }
 ],
 "metadata": {
  "kernelspec": {
   "display_name": "Python 3",
   "language": "python",
   "name": "python3"
  },
  "language_info": {
   "codemirror_mode": {
    "name": "ipython",
    "version": 3
   },
   "file_extension": ".py",
   "mimetype": "text/x-python",
   "name": "python",
   "nbconvert_exporter": "python",
   "pygments_lexer": "ipython3",
   "version": "3.11.5"
  }
 },
 "nbformat": 4,
 "nbformat_minor": 2
}
