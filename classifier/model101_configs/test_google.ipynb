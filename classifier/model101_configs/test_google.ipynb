{
 "cells": [
  {
   "cell_type": "code",
   "execution_count": 1,
   "metadata": {},
   "outputs": [
    {
     "name": "stdout",
     "output_type": "stream",
     "text": [
      "cuda\n",
      "NVIDIA GeForce RTX 4060 Laptop GPU\n"
     ]
    }
   ],
   "source": [
    "import torchvision\n",
    "import torch.nn as nn\n",
    "import torch.nn.functional as nnf\n",
    "import torch\n",
    "import torch.optim as optim\n",
    "import numpy as np\n",
    "from torch.utils.data import DataLoader, Dataset\n",
    "from torchvision.transforms.functional import to_tensor, normalize\n",
    "import time\n",
    "import matplotlib.pyplot as plt\n",
    "from IPython.display import clear_output\n",
    "from torchvision import transforms, models\n",
    "from torchvision.datasets import Food101\n",
    "from torchvision.models import ResNet50_Weights\n",
    "import os\n",
    "import shutil\n",
    "from torchvision import datasets, transforms\n",
    "\n",
    "device = torch.device('cuda' if torch.cuda.is_available() else 'cpu')\n",
    "print(device)\n",
    "print(torch.cuda.get_device_name(0))\n",
    "\n",
    "def test_acc(net: nn.Module, test_loader: DataLoader):\n",
    "\n",
    "  net.to(device)\n",
    "  net.eval()\n",
    "  \n",
    "  total = 0\n",
    "  correct = 0\n",
    "  top2_correct = 0\n",
    "\n",
    "  for images, labels in test_loader:\n",
    "    images, labels = images.to(device), labels.to(device)\n",
    "    total += labels.size(0)\n",
    "\n",
    "    outputs = net(images)\n",
    "    _, predicted = torch.max(outputs, 1)\n",
    "    correct += (predicted == labels).sum().item()\n",
    "\n",
    "    _, predicted2 = torch.topk(outputs, 2, dim=1)  # Get top 2 predictions\n",
    "    top2_correct += ((predicted2 == labels.view(-1, 1)) | (predicted2[:, 1].view(-1, 1) == labels.view(-1, 1))).sum().item()\n",
    "\n",
    "  return (correct / total * 100, top2_correct / total * 100)\n",
    "\n",
    "class Model(nn.Module):\n",
    "    def __init__(self):\n",
    "        super(Model, self).__init__()\n",
    "        \n",
    "        resnet = models.resnet50(weights=ResNet50_Weights.IMAGENET1K_V1)\n",
    "        resnet = nn.Sequential(*list(resnet.children())[:-1])\n",
    "        for param in resnet.parameters():\n",
    "            param.requires_grad = False\n",
    "\n",
    "\n",
    "        self.model = nn.Sequential(\n",
    "            resnet,\n",
    "            nn.AdaptiveAvgPool2d((1, 1)),\n",
    "            nn.Flatten(),\n",
    "            nn.Linear(2048, 512),\n",
    "            nn.ReLU(),\n",
    "            nn.BatchNorm1d(512),\n",
    "            nn.Dropout(0.25),\n",
    "            nn.Linear(512, 128),\n",
    "            nn.ReLU(),\n",
    "            nn.BatchNorm1d(128),\n",
    "            nn.Dropout(0.1),\n",
    "            nn.Linear(128, 101)\n",
    "        )\n",
    "\n",
    "    def forward(self, x):\n",
    "        return self.model(x)"
   ]
  },
  {
   "cell_type": "code",
   "execution_count": 2,
   "metadata": {},
   "outputs": [],
   "source": [
    "transform = transforms.Compose([\n",
    "    transforms.Resize((512, 512)),\n",
    "    transforms.ToTensor(),\n",
    "    transforms.Normalize(mean=[0.485, 0.456, 0.406], std=[0.229, 0.224, 0.225])\n",
    "])\n",
    "\n",
    "test_dir = \"C:/Users/Vlad Talpiga.VLR_PROJAMZ/OneDrive - Valrom Industrie SRL/Desktop/Facultate/IAVA/Proiect/Food Classifier Final/datasets/google_images_101\"\n",
    "\n",
    "test_dataset = datasets.ImageFolder(test_dir, transform=transform)\n",
    "\n",
    "batch_size = 32\n",
    "test_loader = DataLoader(test_dataset, batch_size=batch_size, shuffle=False)"
   ]
  },
  {
   "cell_type": "code",
   "execution_count": 5,
   "metadata": {},
   "outputs": [
    {
     "name": "stdout",
     "output_type": "stream",
     "text": [
      "Epoch 1: accuracy - 39.382%, top 2 accuracy - 67.053%\n",
      "Epoch 2: accuracy - 42.302%, top 2 accuracy - 70.698%\n",
      "Epoch 3: accuracy - 44.296%, top 2 accuracy - 73.155%\n",
      "Epoch 4: accuracy - 45.172%, top 2 accuracy - 73.024%\n",
      "Epoch 5: accuracy - 42.644%, top 2 accuracy - 71.664%\n",
      "Epoch 6: accuracy - 45.454%, top 2 accuracy - 74.212%\n",
      "Epoch 7: accuracy - 44.638%, top 2 accuracy - 72.148%\n"
     ]
    },
    {
     "ename": "KeyboardInterrupt",
     "evalue": "",
     "output_type": "error",
     "traceback": [
      "\u001b[1;31m---------------------------------------------------------------------------\u001b[0m",
      "\u001b[1;31mKeyboardInterrupt\u001b[0m                         Traceback (most recent call last)",
      "Cell \u001b[1;32mIn[5], line 9\u001b[0m\n\u001b[0;32m      6\u001b[0m     state_dict \u001b[38;5;241m=\u001b[39m torch\u001b[38;5;241m.\u001b[39mload(\u001b[38;5;124mf\u001b[39m\u001b[38;5;124m'\u001b[39m\u001b[38;5;124msaved_models_aug/aug_epoch\u001b[39m\u001b[38;5;132;01m{\u001b[39;00mi\u001b[38;5;132;01m}\u001b[39;00m\u001b[38;5;124m.pkl\u001b[39m\u001b[38;5;124m'\u001b[39m)\n\u001b[0;32m      7\u001b[0m     model\u001b[38;5;241m.\u001b[39mload_state_dict(state_dict)\n\u001b[1;32m----> 9\u001b[0m     accuracy, top2accuracy \u001b[38;5;241m=\u001b[39m \u001b[43mtest_acc\u001b[49m\u001b[43m(\u001b[49m\u001b[43mmodel\u001b[49m\u001b[43m,\u001b[49m\u001b[43m \u001b[49m\u001b[43mtest_loader\u001b[49m\u001b[43m)\u001b[49m\n\u001b[0;32m     11\u001b[0m     \u001b[38;5;28mprint\u001b[39m(\u001b[38;5;124mf\u001b[39m\u001b[38;5;124m'\u001b[39m\u001b[38;5;124mEpoch \u001b[39m\u001b[38;5;132;01m{\u001b[39;00mi\u001b[38;5;132;01m}\u001b[39;00m\u001b[38;5;124m: accuracy - \u001b[39m\u001b[38;5;132;01m{\u001b[39;00maccuracy\u001b[38;5;132;01m:\u001b[39;00m\u001b[38;5;124m.3f\u001b[39m\u001b[38;5;132;01m}\u001b[39;00m\u001b[38;5;124m%, top 2 accuracy - \u001b[39m\u001b[38;5;132;01m{\u001b[39;00mtop2accuracy\u001b[38;5;132;01m:\u001b[39;00m\u001b[38;5;124m.3f\u001b[39m\u001b[38;5;132;01m}\u001b[39;00m\u001b[38;5;124m%\u001b[39m\u001b[38;5;124m'\u001b[39m)\n\u001b[0;32m     13\u001b[0m \u001b[38;5;28mprint\u001b[39m(\u001b[38;5;124mf\u001b[39m\u001b[38;5;124m'\u001b[39m\u001b[38;5;124mTesting duration: \u001b[39m\u001b[38;5;132;01m{\u001b[39;00mtime\u001b[38;5;241m.\u001b[39mtime()\u001b[38;5;250m \u001b[39m\u001b[38;5;241m-\u001b[39m\u001b[38;5;250m \u001b[39mstart\u001b[38;5;132;01m}\u001b[39;00m\u001b[38;5;124m'\u001b[39m)\n",
      "Cell \u001b[1;32mIn[3], line 38\u001b[0m, in \u001b[0;36mtest_acc\u001b[1;34m(net, test_loader)\u001b[0m\n\u001b[0;32m     36\u001b[0m outputs \u001b[38;5;241m=\u001b[39m net(images)\n\u001b[0;32m     37\u001b[0m _, predicted \u001b[38;5;241m=\u001b[39m torch\u001b[38;5;241m.\u001b[39mmax(outputs, \u001b[38;5;241m1\u001b[39m)\n\u001b[1;32m---> 38\u001b[0m correct \u001b[38;5;241m+\u001b[39m\u001b[38;5;241m=\u001b[39m \u001b[43m(\u001b[49m\u001b[43mpredicted\u001b[49m\u001b[43m \u001b[49m\u001b[38;5;241;43m==\u001b[39;49m\u001b[43m \u001b[49m\u001b[43mlabels\u001b[49m\u001b[43m)\u001b[49m\u001b[38;5;241;43m.\u001b[39;49m\u001b[43msum\u001b[49m\u001b[43m(\u001b[49m\u001b[43m)\u001b[49m\u001b[38;5;241;43m.\u001b[39;49m\u001b[43mitem\u001b[49m\u001b[43m(\u001b[49m\u001b[43m)\u001b[49m\n\u001b[0;32m     40\u001b[0m _, predicted2 \u001b[38;5;241m=\u001b[39m torch\u001b[38;5;241m.\u001b[39mtopk(outputs, \u001b[38;5;241m2\u001b[39m, dim\u001b[38;5;241m=\u001b[39m\u001b[38;5;241m1\u001b[39m)  \u001b[38;5;66;03m# Get top 2 predictions\u001b[39;00m\n\u001b[0;32m     41\u001b[0m top2_correct \u001b[38;5;241m+\u001b[39m\u001b[38;5;241m=\u001b[39m ((predicted2 \u001b[38;5;241m==\u001b[39m labels\u001b[38;5;241m.\u001b[39mview(\u001b[38;5;241m-\u001b[39m\u001b[38;5;241m1\u001b[39m, \u001b[38;5;241m1\u001b[39m)) \u001b[38;5;241m|\u001b[39m (predicted2[:, \u001b[38;5;241m1\u001b[39m]\u001b[38;5;241m.\u001b[39mview(\u001b[38;5;241m-\u001b[39m\u001b[38;5;241m1\u001b[39m, \u001b[38;5;241m1\u001b[39m) \u001b[38;5;241m==\u001b[39m labels\u001b[38;5;241m.\u001b[39mview(\u001b[38;5;241m-\u001b[39m\u001b[38;5;241m1\u001b[39m, \u001b[38;5;241m1\u001b[39m)))\u001b[38;5;241m.\u001b[39msum()\u001b[38;5;241m.\u001b[39mitem()\n",
      "\u001b[1;31mKeyboardInterrupt\u001b[0m: "
     ]
    }
   ],
   "source": [
    "model = Model()\n",
    "\n",
    "start = time.time()\n",
    "for i in range(1, 13):\n",
    "\n",
    "    state_dict = torch.load(f'saved_models_aug/aug_epoch{i}.pkl')\n",
    "    model.load_state_dict(state_dict)\n",
    "\n",
    "    accuracy, top2accuracy = test_acc(model, test_loader)\n",
    "\n",
    "    print(f'Epoch {i}: accuracy - {accuracy:.3f}%, top 2 accuracy - {top2accuracy:.3f}%')\n",
    "\n",
    "print(f'Testing duration: {time.time() - start}')"
   ]
  },
  {
   "cell_type": "code",
   "execution_count": 8,
   "metadata": {},
   "outputs": [
    {
     "name": "stdout",
     "output_type": "stream",
     "text": [
      "Epoch 1: accuracy - 50.599%, top 2 accuracy - 78.431%\n",
      "Epoch 2: accuracy - 54.325%, top 2 accuracy - 80.385%\n",
      "Epoch 3: accuracy - 55.855%, top 2 accuracy - 82.499%\n",
      "Epoch 4: accuracy - 55.372%, top 2 accuracy - 81.935%\n",
      "Epoch 5: accuracy - 57.587%, top 2 accuracy - 83.526%\n",
      "Epoch 6: accuracy - 57.285%, top 2 accuracy - 83.164%\n",
      "Epoch 7: accuracy - 57.547%, top 2 accuracy - 83.124%\n",
      "Epoch 8: accuracy - 58.947%, top 2 accuracy - 83.275%\n",
      "Epoch 9: accuracy - 56.913%, top 2 accuracy - 83.617%\n",
      "Epoch 10: accuracy - 58.876%, top 2 accuracy - 85.480%\n",
      "Epoch 11: accuracy - 59.803%, top 2 accuracy - 85.379%\n",
      "Epoch 12: accuracy - 60.105%, top 2 accuracy - 85.137%\n",
      "Testing duration: 3452.500349521637\n"
     ]
    }
   ],
   "source": [
    "model = Model()\n",
    "\n",
    "start = time.time()\n",
    "for i in range(1, 13):\n",
    "\n",
    "    state_dict = torch.load(f'saved_models_not_aug/model_epoch{i}.pkl')\n",
    "    model.load_state_dict(state_dict)\n",
    "\n",
    "    accuracy, top2accuracy = test_acc(model, test_loader)\n",
    "\n",
    "    print(f'Epoch {i}: accuracy - {accuracy:.3f}%, top 2 accuracy - {top2accuracy:.3f}%')\n",
    "\n",
    "print(f'Testing duration: {time.time() - start}')"
   ]
  },
  {
   "cell_type": "code",
   "execution_count": 9,
   "metadata": {},
   "outputs": [
    {
     "name": "stdout",
     "output_type": "stream",
     "text": [
      "Epoch 1: accuracy - 58.705%, top 2 accuracy - 83.959%\n",
      "Epoch 2: accuracy - 59.219%, top 2 accuracy - 84.010%\n",
      "Epoch 3: accuracy - 60.367%, top 2 accuracy - 86.567%\n",
      "Epoch 4: accuracy - 60.689%, top 2 accuracy - 85.017%\n",
      "Epoch 5: accuracy - 60.044%, top 2 accuracy - 86.084%\n",
      "Epoch 6: accuracy - 60.427%, top 2 accuracy - 86.527%\n",
      "Epoch 7: accuracy - 60.346%, top 2 accuracy - 85.500%\n",
      "Epoch 8: accuracy - 58.544%, top 2 accuracy - 84.785%\n",
      "Epoch 9: accuracy - 60.820%, top 2 accuracy - 85.711%\n",
      "Epoch 10: accuracy - 59.984%, top 2 accuracy - 84.694%\n",
      "Epoch 11: accuracy - 59.903%, top 2 accuracy - 84.775%\n",
      "Epoch 12: accuracy - 60.548%, top 2 accuracy - 84.755%\n",
      "Testing duration: 5568.075646162033\n"
     ]
    }
   ],
   "source": [
    "model = Model()\n",
    "\n",
    "start = time.time()\n",
    "for i in range(1, 13):\n",
    "\n",
    "    state_dict = torch.load(f'saved_models_double/epoch{i}.pkl')\n",
    "    model.load_state_dict(state_dict)\n",
    "\n",
    "    accuracy, top2accuracy = test_acc(model, test_loader)\n",
    "\n",
    "    print(f'Epoch {i}: accuracy - {accuracy:.3f}%, top 2 accuracy - {top2accuracy:.3f}%')\n",
    "\n",
    "print(f'Testing duration: {time.time() - start}')"
   ]
  },
  {
   "cell_type": "code",
   "execution_count": 3,
   "metadata": {},
   "outputs": [
    {
     "name": "stdout",
     "output_type": "stream",
     "text": [
      "Epoch 1: accuracy - 56.641%, top 2 accuracy - 82.600%\n",
      "Epoch 2: accuracy - 57.497%, top 2 accuracy - 83.033%\n",
      "Epoch 3: accuracy - 58.081%, top 2 accuracy - 83.919%\n",
      "Epoch 4: accuracy - 57.940%, top 2 accuracy - 84.100%\n",
      "Epoch 5: accuracy - 55.886%, top 2 accuracy - 83.698%\n",
      "Epoch 6: accuracy - 58.262%, top 2 accuracy - 83.677%\n",
      "Epoch 7: accuracy - 58.202%, top 2 accuracy - 83.597%\n",
      "Epoch 8: accuracy - 57.426%, top 2 accuracy - 82.197%\n",
      "Epoch 9: accuracy - 58.635%, top 2 accuracy - 83.929%\n",
      "Epoch 10: accuracy - 58.282%, top 2 accuracy - 84.322%\n",
      "Testing duration: 3002.9676978588104\n"
     ]
    }
   ],
   "source": [
    "model = Model()\n",
    "\n",
    "start = time.time()\n",
    "for i in range(1, 11):\n",
    "\n",
    "    state_dict = torch.load(f'saved_models_triple/epoch{i}.pkl')\n",
    "    model.load_state_dict(state_dict)\n",
    "\n",
    "    accuracy, top2accuracy = test_acc(model, test_loader)\n",
    "\n",
    "    print(f'Epoch {i}: accuracy - {accuracy:.3f}%, top 2 accuracy - {top2accuracy:.3f}%')\n",
    "\n",
    "print(f'Testing duration: {time.time() - start}')"
   ]
  }
 ],
 "metadata": {
  "kernelspec": {
   "display_name": "Python 3",
   "language": "python",
   "name": "python3"
  },
  "language_info": {
   "codemirror_mode": {
    "name": "ipython",
    "version": 3
   },
   "file_extension": ".py",
   "mimetype": "text/x-python",
   "name": "python",
   "nbconvert_exporter": "python",
   "pygments_lexer": "ipython3",
   "version": "3.11.5"
  }
 },
 "nbformat": 4,
 "nbformat_minor": 2
}
